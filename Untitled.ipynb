{
 "cells": [
  {
   "cell_type": "code",
   "execution_count": 1,
   "id": "d7689f4b-640c-4988-b8a6-422297e45690",
   "metadata": {},
   "outputs": [
    {
     "name": "stdout",
     "output_type": "stream",
     "text": [
      "Requirement already satisfied: streamlit==1.36.0 in c:\\users\\harendra singh\\appdata\\local\\programs\\python\\python311\\lib\\site-packages (1.36.0)\n",
      "Requirement already satisfied: altair<6,>=4.0 in c:\\users\\harendra singh\\appdata\\local\\programs\\python\\python311\\lib\\site-packages (from streamlit==1.36.0) (5.3.0)\n",
      "Requirement already satisfied: blinker<2,>=1.0.0 in c:\\users\\harendra singh\\appdata\\local\\programs\\python\\python311\\lib\\site-packages (from streamlit==1.36.0) (1.8.2)\n",
      "Requirement already satisfied: cachetools<6,>=4.0 in c:\\users\\harendra singh\\appdata\\local\\programs\\python\\python311\\lib\\site-packages (from streamlit==1.36.0) (5.3.3)\n",
      "Requirement already satisfied: click<9,>=7.0 in c:\\users\\harendra singh\\appdata\\local\\programs\\python\\python311\\lib\\site-packages (from streamlit==1.36.0) (8.1.7)\n",
      "Requirement already satisfied: numpy<3,>=1.20 in c:\\users\\harendra singh\\appdata\\local\\programs\\python\\python311\\lib\\site-packages (from streamlit==1.36.0) (1.26.4)\n",
      "Requirement already satisfied: packaging<25,>=20 in c:\\users\\harendra singh\\appdata\\local\\programs\\python\\python311\\lib\\site-packages (from streamlit==1.36.0) (23.1)\n",
      "Requirement already satisfied: pandas<3,>=1.3.0 in c:\\users\\harendra singh\\appdata\\local\\programs\\python\\python311\\lib\\site-packages (from streamlit==1.36.0) (1.5.2)\n",
      "Requirement already satisfied: pillow<11,>=7.1.0 in c:\\users\\harendra singh\\appdata\\local\\programs\\python\\python311\\lib\\site-packages (from streamlit==1.36.0) (10.0.0)\n",
      "Requirement already satisfied: protobuf<6,>=3.20 in c:\\users\\harendra singh\\appdata\\local\\programs\\python\\python311\\lib\\site-packages (from streamlit==1.36.0) (5.27.2)\n",
      "Requirement already satisfied: pyarrow>=7.0 in c:\\users\\harendra singh\\appdata\\local\\programs\\python\\python311\\lib\\site-packages (from streamlit==1.36.0) (16.1.0)\n",
      "Requirement already satisfied: requests<3,>=2.27 in c:\\users\\harendra singh\\appdata\\local\\programs\\python\\python311\\lib\\site-packages (from streamlit==1.36.0) (2.31.0)\n",
      "Requirement already satisfied: rich<14,>=10.14.0 in c:\\users\\harendra singh\\appdata\\local\\programs\\python\\python311\\lib\\site-packages (from streamlit==1.36.0) (13.5.2)\n",
      "Requirement already satisfied: tenacity<9,>=8.1.0 in c:\\users\\harendra singh\\appdata\\local\\programs\\python\\python311\\lib\\site-packages (from streamlit==1.36.0) (8.2.3)\n",
      "Requirement already satisfied: toml<2,>=0.10.1 in c:\\users\\harendra singh\\appdata\\local\\programs\\python\\python311\\lib\\site-packages (from streamlit==1.36.0) (0.10.2)\n",
      "Requirement already satisfied: typing-extensions<5,>=4.3.0 in c:\\users\\harendra singh\\appdata\\local\\programs\\python\\python311\\lib\\site-packages (from streamlit==1.36.0) (4.12.2)\n",
      "Requirement already satisfied: gitpython!=3.1.19,<4,>=3.0.7 in c:\\users\\harendra singh\\appdata\\local\\programs\\python\\python311\\lib\\site-packages (from streamlit==1.36.0) (3.1.43)\n",
      "Requirement already satisfied: pydeck<1,>=0.8.0b4 in c:\\users\\harendra singh\\appdata\\local\\programs\\python\\python311\\lib\\site-packages (from streamlit==1.36.0) (0.9.1)\n",
      "Requirement already satisfied: tornado<7,>=6.0.3 in c:\\users\\harendra singh\\appdata\\local\\programs\\python\\python311\\lib\\site-packages (from streamlit==1.36.0) (6.3.3)\n",
      "Requirement already satisfied: watchdog<5,>=2.1.5 in c:\\users\\harendra singh\\appdata\\local\\programs\\python\\python311\\lib\\site-packages (from streamlit==1.36.0) (3.0.0)\n",
      "Requirement already satisfied: jinja2 in c:\\users\\harendra singh\\appdata\\local\\programs\\python\\python311\\lib\\site-packages (from altair<6,>=4.0->streamlit==1.36.0) (3.1.2)\n",
      "Requirement already satisfied: jsonschema>=3.0 in c:\\users\\harendra singh\\appdata\\local\\programs\\python\\python311\\lib\\site-packages (from altair<6,>=4.0->streamlit==1.36.0) (4.19.0)\n",
      "Requirement already satisfied: toolz in c:\\users\\harendra singh\\appdata\\local\\programs\\python\\python311\\lib\\site-packages (from altair<6,>=4.0->streamlit==1.36.0) (0.12.1)\n",
      "Requirement already satisfied: colorama in c:\\users\\harendra singh\\appdata\\local\\programs\\python\\python311\\lib\\site-packages (from click<9,>=7.0->streamlit==1.36.0) (0.4.6)\n",
      "Requirement already satisfied: gitdb<5,>=4.0.1 in c:\\users\\harendra singh\\appdata\\local\\programs\\python\\python311\\lib\\site-packages (from gitpython!=3.1.19,<4,>=3.0.7->streamlit==1.36.0) (4.0.11)\n",
      "Requirement already satisfied: python-dateutil>=2.8.1 in c:\\users\\harendra singh\\appdata\\local\\programs\\python\\python311\\lib\\site-packages (from pandas<3,>=1.3.0->streamlit==1.36.0) (2.8.2)\n",
      "Requirement already satisfied: pytz>=2020.1 in c:\\users\\harendra singh\\appdata\\local\\programs\\python\\python311\\lib\\site-packages (from pandas<3,>=1.3.0->streamlit==1.36.0) (2023.3)\n",
      "Requirement already satisfied: charset-normalizer<4,>=2 in c:\\users\\harendra singh\\appdata\\local\\programs\\python\\python311\\lib\\site-packages (from requests<3,>=2.27->streamlit==1.36.0) (3.2.0)\n",
      "Requirement already satisfied: idna<4,>=2.5 in c:\\users\\harendra singh\\appdata\\local\\programs\\python\\python311\\lib\\site-packages (from requests<3,>=2.27->streamlit==1.36.0) (3.4)\n",
      "Requirement already satisfied: urllib3<3,>=1.21.1 in c:\\users\\harendra singh\\appdata\\local\\programs\\python\\python311\\lib\\site-packages (from requests<3,>=2.27->streamlit==1.36.0) (2.0.4)\n",
      "Requirement already satisfied: certifi>=2017.4.17 in c:\\users\\harendra singh\\appdata\\local\\programs\\python\\python311\\lib\\site-packages (from requests<3,>=2.27->streamlit==1.36.0) (2023.7.22)\n",
      "Requirement already satisfied: markdown-it-py>=2.2.0 in c:\\users\\harendra singh\\appdata\\local\\programs\\python\\python311\\lib\\site-packages (from rich<14,>=10.14.0->streamlit==1.36.0) (3.0.0)\n",
      "Requirement already satisfied: pygments<3.0.0,>=2.13.0 in c:\\users\\harendra singh\\appdata\\local\\programs\\python\\python311\\lib\\site-packages (from rich<14,>=10.14.0->streamlit==1.36.0) (2.16.1)\n",
      "Requirement already satisfied: smmap<6,>=3.0.1 in c:\\users\\harendra singh\\appdata\\local\\programs\\python\\python311\\lib\\site-packages (from gitdb<5,>=4.0.1->gitpython!=3.1.19,<4,>=3.0.7->streamlit==1.36.0) (5.0.1)\n",
      "Requirement already satisfied: MarkupSafe>=2.0 in c:\\users\\harendra singh\\appdata\\local\\programs\\python\\python311\\lib\\site-packages (from jinja2->altair<6,>=4.0->streamlit==1.36.0) (2.1.3)\n",
      "Requirement already satisfied: attrs>=22.2.0 in c:\\users\\harendra singh\\appdata\\local\\programs\\python\\python311\\lib\\site-packages (from jsonschema>=3.0->altair<6,>=4.0->streamlit==1.36.0) (23.1.0)\n",
      "Requirement already satisfied: jsonschema-specifications>=2023.03.6 in c:\\users\\harendra singh\\appdata\\local\\programs\\python\\python311\\lib\\site-packages (from jsonschema>=3.0->altair<6,>=4.0->streamlit==1.36.0) (2023.7.1)\n",
      "Requirement already satisfied: referencing>=0.28.4 in c:\\users\\harendra singh\\appdata\\local\\programs\\python\\python311\\lib\\site-packages (from jsonschema>=3.0->altair<6,>=4.0->streamlit==1.36.0) (0.30.2)\n",
      "Requirement already satisfied: rpds-py>=0.7.1 in c:\\users\\harendra singh\\appdata\\local\\programs\\python\\python311\\lib\\site-packages (from jsonschema>=3.0->altair<6,>=4.0->streamlit==1.36.0) (0.9.2)\n",
      "Requirement already satisfied: mdurl~=0.1 in c:\\users\\harendra singh\\appdata\\local\\programs\\python\\python311\\lib\\site-packages (from markdown-it-py>=2.2.0->rich<14,>=10.14.0->streamlit==1.36.0) (0.1.2)\n",
      "Requirement already satisfied: six>=1.5 in c:\\users\\harendra singh\\appdata\\local\\programs\\python\\python311\\lib\\site-packages (from python-dateutil>=2.8.1->pandas<3,>=1.3.0->streamlit==1.36.0) (1.16.0)\n"
     ]
    },
    {
     "name": "stderr",
     "output_type": "stream",
     "text": [
      "\n",
      "[notice] A new release of pip is available: 24.0 -> 24.1.2\n",
      "[notice] To update, run: python.exe -m pip install --upgrade pip\n"
     ]
    }
   ],
   "source": [
    "!pip install streamlit==1.36.0"
   ]
  },
  {
   "cell_type": "code",
   "execution_count": 2,
   "id": "d5772333-8078-4b2f-a4fe-5ea3e666dd1a",
   "metadata": {},
   "outputs": [
    {
     "name": "stdout",
     "output_type": "stream",
     "text": [
      "Overwriting app.py\n"
     ]
    }
   ],
   "source": [
    "%%writefile app.py\n",
    "\n",
    "import streamlit as st\n",
    "\n",
    "st.title('My First Streamlit App')\n",
    "st.write('Hello, world!')"
   ]
  },
  {
   "cell_type": "code",
   "execution_count": null,
   "id": "e8c2c1d9-5e3d-44d9-8d20-fa9fb90038a7",
   "metadata": {},
   "outputs": [],
   "source": [
    "!streamlit run app.py"
   ]
  },
  {
   "cell_type": "code",
   "execution_count": null,
   "id": "6ea6c90a-d055-4309-be1b-31fd98e5c386",
   "metadata": {},
   "outputs": [],
   "source": []
  },
  {
   "cell_type": "code",
   "execution_count": null,
   "id": "6f6f0284-f73a-4d26-826c-d281ca31df68",
   "metadata": {},
   "outputs": [],
   "source": []
  },
  {
   "cell_type": "code",
   "execution_count": null,
   "id": "c005e495-3c23-4780-8c7c-c03059b15237",
   "metadata": {},
   "outputs": [],
   "source": []
  },
  {
   "cell_type": "code",
   "execution_count": null,
   "id": "d42e4393-0273-4577-807f-3f3467eede82",
   "metadata": {},
   "outputs": [],
   "source": []
  },
  {
   "cell_type": "code",
   "execution_count": null,
   "id": "e9570a36-c0c2-4f53-b0d2-7636e45b5273",
   "metadata": {},
   "outputs": [],
   "source": []
  },
  {
   "cell_type": "code",
   "execution_count": null,
   "id": "38d8fb2b-9426-4546-826a-a03f2d595c7a",
   "metadata": {},
   "outputs": [],
   "source": []
  },
  {
   "cell_type": "code",
   "execution_count": null,
   "id": "b72ff206-2b91-454e-b926-ad7d20454c9d",
   "metadata": {},
   "outputs": [],
   "source": []
  }
 ],
 "metadata": {
  "kernelspec": {
   "display_name": "Python 3 (ipykernel)",
   "language": "python",
   "name": "python3"
  },
  "language_info": {
   "codemirror_mode": {
    "name": "ipython",
    "version": 3
   },
   "file_extension": ".py",
   "mimetype": "text/x-python",
   "name": "python",
   "nbconvert_exporter": "python",
   "pygments_lexer": "ipython3",
   "version": "3.11.9"
  }
 },
 "nbformat": 4,
 "nbformat_minor": 5
}
